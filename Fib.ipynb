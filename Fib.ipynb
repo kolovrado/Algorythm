{
 "cells": [
  {
   "cell_type": "markdown",
   "metadata": {},
   "source": [
    "Дано целое число 1≤n≤40, необходимо вычислить n-е число Фибоначчи (напомним, что F0=0, F1=1 и Fn=Fn−1+Fn−2 при n≥2)."
   ]
  },
  {
   "cell_type": "code",
   "execution_count": 2,
   "metadata": {},
   "outputs": [
    {
     "name": "stdout",
     "output_type": "stream",
     "text": [
      "66\n",
      "27777890035288\n"
     ]
    }
   ],
   "source": [
    "def fib(n):\n",
    "    return int(1/(5**0.5)*(((1+(5**0.5))/2)**n-((1-(5**0.5))/2)**n))\n",
    "      \n",
    "def main():\n",
    "    n = int(input())\n",
    "    print(fib(n))\n",
    "\n",
    "\n",
    "if __name__ == \"__main__\":\n",
    "    main()"
   ]
  },
  {
   "cell_type": "markdown",
   "metadata": {},
   "source": [
    "Дано число 1≤n≤107, необходимо найти последнюю цифру n-го числа Фибоначчи."
   ]
  },
  {
   "cell_type": "code",
   "execution_count": 3,
   "metadata": {},
   "outputs": [
    {
     "name": "stdout",
     "output_type": "stream",
     "text": [
      "696352\n",
      "9\n"
     ]
    }
   ],
   "source": [
    "def fib_digit(n):\n",
    "    n = n%60   \n",
    "    return str(int(1/(5**0.5)*(((1+(5**0.5))/2)**n-((1-(5**0.5))/2)**n)))[-1]\n",
    "      \n",
    "def main():\n",
    "    n = int(input())\n",
    "    print(fib_digit(n))\n",
    "\n",
    "\n",
    "if __name__ == \"__main__\":\n",
    "    main()"
   ]
  },
  {
   "cell_type": "markdown",
   "metadata": {},
   "source": [
    "найти остаток от деления n-го числа Фибоначчи на m."
   ]
  },
  {
   "cell_type": "code",
   "execution_count": 5,
   "metadata": {},
   "outputs": [
    {
     "name": "stdout",
     "output_type": "stream",
     "text": [
      "789 565\n",
      "79\n"
     ]
    }
   ],
   "source": [
    "def fib_mod(n, m):\n",
    "    piz = [0, 1]\n",
    "    for i in range(2, 6*m+1):\n",
    "        piz.append((piz[-2]+piz[-1])%m)\n",
    "        if [piz[-2], piz[-1]] == [0, 1]:\n",
    "            piz = piz[:-2]\n",
    "            break           \n",
    "    return piz[n % len(piz)]\n",
    "\n",
    "\n",
    "def main():\n",
    "    n, m = map(int, input().split())\n",
    "    print(fib_mod(n, m))\n",
    "\n",
    "\n",
    "if __name__ == \"__main__\":\n",
    "    main()"
   ]
  },
  {
   "cell_type": "markdown",
   "metadata": {},
   "source": [
    "наибольший общий делитель."
   ]
  },
  {
   "cell_type": "code",
   "execution_count": 6,
   "metadata": {},
   "outputs": [
    {
     "name": "stdout",
     "output_type": "stream",
     "text": [
      "6565 985\n",
      "5\n"
     ]
    }
   ],
   "source": [
    "def gcd(a, b):\n",
    "    a, b = max(a, b)%min(a, b), min(a, b)\n",
    "    if min(a, b) != 0:\n",
    "        return gcd(a,b)\n",
    "    else:\n",
    "        return max(a, b)\n",
    "\n",
    "def main():\n",
    "    a, b = map(int, input().split())\n",
    "    print(gcd(a, b))\n",
    "\n",
    "\n",
    "if __name__ == \"__main__\":\n",
    "    main()"
   ]
  }
 ],
 "metadata": {
  "kernelspec": {
   "display_name": "Python 3",
   "language": "python",
   "name": "python3"
  },
  "language_info": {
   "codemirror_mode": {
    "name": "ipython",
    "version": 3
   },
   "file_extension": ".py",
   "mimetype": "text/x-python",
   "name": "python",
   "nbconvert_exporter": "python",
   "pygments_lexer": "ipython3",
   "version": "3.7.3"
  }
 },
 "nbformat": 4,
 "nbformat_minor": 2
}
