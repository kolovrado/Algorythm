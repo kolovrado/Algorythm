{
 "cells": [
  {
   "cell_type": "code",
   "execution_count": null,
   "metadata": {},
   "outputs": [],
   "source": [
    "#очередь с приоритетами\n",
    "import heapq\n",
    "import sys\n",
    "heap = []\n",
    "for i in range(int(input())):\n",
    "    buf = sys.stdin.readline().split()\n",
    "    if buf[0] == 'Insert':\n",
    "        heapq.heappush(heap, -1*int(buf[1]))\n",
    "    else:\n",
    "        print(-1*heapq.heappop(heap))\n",
    "        \n",
    "    \"\"\"\n",
    "input\n",
    "6\n",
    "Insert 200\n",
    "Insert 10\n",
    "ExtractMax\n",
    "Insert 5\n",
    "Insert 500\n",
    "ExtractMax\n",
    "    \"\"\""
   ]
  }
 ],
 "metadata": {
  "kernelspec": {
   "display_name": "Python 3",
   "language": "python",
   "name": "python3"
  },
  "language_info": {
   "codemirror_mode": {
    "name": "ipython",
    "version": 3
   },
   "file_extension": ".py",
   "mimetype": "text/x-python",
   "name": "python",
   "nbconvert_exporter": "python",
   "pygments_lexer": "ipython3",
   "version": "3.7.3"
  }
 },
 "nbformat": 4,
 "nbformat_minor": 2
}
