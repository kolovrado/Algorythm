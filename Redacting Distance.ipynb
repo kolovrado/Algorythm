{
 "cells": [
  {
   "cell_type": "code",
   "execution_count": null,
   "metadata": {},
   "outputs": [],
   "source": [
    "def matrix(x, y):\n",
    "    Ly = len(y)\n",
    "    Lx = len(x)\n",
    "    L = [[0]*(Ly) for i in range(Lx+1)]\n",
    "    L[0] = list(range(1, Ly+1))\n",
    "    [L[i].insert(0, i) for i in range(Lx+1)]\n",
    "    for i in range(1, Lx + 1):\n",
    "        for j in range(1, Ly + 1):\n",
    "            if x[i - 1] == y[j - 1]:\n",
    "                c = 0\n",
    "            else:\n",
    "                c = 1\n",
    "            L[i][j] = min(L[i - 1][j] + 1, L[i][j - 1] +1, L[i - 1][j - 1] + c)\n",
    "    return L\n",
    "\n",
    "def find(x, y):\n",
    "    Ly = len(y)\n",
    "    Lx = len(x)\n",
    "    if Ly > Lx:\n",
    "        x, y = y, x\n",
    "        Lx, Ly = Ly, Lx\n",
    "    ans = matrix(x, y)\n",
    "    delet = 0    #phr = 0\n",
    "    rep = 0\n",
    "    while Lx > 0 and Ly > 0:\n",
    "        minn = min(ans[Lx][Ly - 1], ans[Lx - 1][Ly], ans[Lx - 1][Ly - 1])\n",
    "        if ans[Lx][Ly] == ans[Lx - 1][Ly - 1] and ans[Lx][Ly] == minn:   #phr += 1\n",
    "            Lx -= 1\n",
    "            Ly -= 1\n",
    "        elif ans[Lx - 1][Ly - 1] == minn:\n",
    "            rep += 1\n",
    "            Lx -= 1\n",
    "            Ly -= 1\n",
    "        elif ans[Lx - 1][Ly] == minn:\n",
    "            delet += 1\n",
    "            Lx -= 1\n",
    "        elif ans[Lx][Ly - 1] == minn:\n",
    "            rep += 1\n",
    "            Ly -= 1\n",
    "    return delet, rep + max(Lx, Ly)\n",
    "    \n",
    "x = input()\n",
    "y = input()\n",
    "dl, rep = find(x, y)\n",
    "print(dl + rep)"
   ]
  }
 ],
 "metadata": {
  "kernelspec": {
   "display_name": "Python 3",
   "language": "python",
   "name": "python3"
  },
  "language_info": {
   "codemirror_mode": {
    "name": "ipython",
    "version": 3
   },
   "file_extension": ".py",
   "mimetype": "text/x-python",
   "name": "python",
   "nbconvert_exporter": "python",
   "pygments_lexer": "ipython3",
   "version": "3.7.3"
  }
 },
 "nbformat": 4,
 "nbformat_minor": 2
}
