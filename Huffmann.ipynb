{
 "cells": [
  {
   "cell_type": "code",
   "execution_count": null,
   "metadata": {},
   "outputs": [],
   "source": [
    "#беспрефиксный код\n",
    "from heapq import heappush, heappop, heapify\n",
    "from collections import defaultdict\n",
    " \n",
    "def encode(symb2freq):\n",
    "    heap = [[wt, [sym, \"\"]] for sym, wt in symb2freq.items()]\n",
    "    heapify(heap)\n",
    "    while len(heap) > 1:\n",
    "        lo = heappop(heap)\n",
    "        hi = heappop(heap)\n",
    "        for pair in lo[1:]:\n",
    "            pair[1] = '0' + pair[1]\n",
    "        for pair in hi[1:]:\n",
    "            pair[1] = '1' + pair[1]\n",
    "        heappush(heap, [lo[0] + hi[0]] + lo[1:] + hi[1:])\n",
    "    return sorted(heappop(heap)[1:], key=lambda p: (len(p[-1]), p))\n",
    " \n",
    "txt = [i for i in input()]\n",
    "st = list(set(txt))\n",
    "ans = ''\n",
    "dic = {}\n",
    "if len(st) == 1:\n",
    "    dic[txt[0]]= '0'\n",
    "else:\n",
    "    symb2freq = defaultdict(int)\n",
    "    for ch in txt:\n",
    "        symb2freq[ch] += 1\n",
    "    dic = {i[0]:i[1] for i in encode(symb2freq) }\n",
    "for i in txt:\n",
    "    ans += dic[i]\n",
    "print(len(st), len(ans), sep = ' ')\n",
    "[print(i + ': '+dic[i]) for i in st]\n",
    "print(ans)"
   ]
  },
  {
   "cell_type": "code",
   "execution_count": null,
   "metadata": {},
   "outputs": [],
   "source": [
    "#декодирование \n",
    "n, m= map(int, input().split())\n",
    "dic = {}\n",
    "for i in range(n):\n",
    "    a, b  = input().split(': ')\n",
    "    dic[b] = a\n",
    "ans = ''\n",
    "buf = ''\n",
    "for i in input():\n",
    "    buf += i\n",
    "    if buf in list(dic.keys()):\n",
    "        ans += dic[buf]\n",
    "        buf = ''\n",
    "print(ans)"
   ]
  }
 ],
 "metadata": {
  "kernelspec": {
   "display_name": "Python 3",
   "language": "python",
   "name": "python3"
  },
  "language_info": {
   "codemirror_mode": {
    "name": "ipython",
    "version": 3
   },
   "file_extension": ".py",
   "mimetype": "text/x-python",
   "name": "python",
   "nbconvert_exporter": "python",
   "pygments_lexer": "ipython3",
   "version": "3.7.3"
  }
 },
 "nbformat": 4,
 "nbformat_minor": 2
}
