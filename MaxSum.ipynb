{
 "cells": [
  {
   "cell_type": "code",
   "execution_count": null,
   "metadata": {},
   "outputs": [],
   "source": [
    "    \"\"\"\n",
    "Даны число 1≤n≤102 ступенек лестницы и целые числа −104≤a1,…,an≤104, которыми помечены ступеньки. \n",
    "Найдите максимальную сумму, которую можно получить, идя по лестнице снизу вверх (от нулевой до n-й ступеньки), \n",
    "каждый раз поднимаясь на одну или две ступеньки.\n",
    "    \"\"\"\n",
    "\n",
    "n = int(input())\n",
    "hell = list(map(int, input().split()))\n",
    "buf = [0] * n\n",
    "buf[0] = hell[0]\n",
    "if n > 1:\n",
    "    buf[1] = max(hell[0] + hell[1], hell[1])\n",
    "    i = 2\n",
    "    while i != n:\n",
    "        buf[i] = max(hell[i] + buf[i-1], hell[i] + buf[i-2])\n",
    "        i += 1\n",
    "print(buf[-1])"
   ]
  }
 ],
 "metadata": {
  "kernelspec": {
   "display_name": "Python 3",
   "language": "python",
   "name": "python3"
  },
  "language_info": {
   "codemirror_mode": {
    "name": "ipython",
    "version": 3
   },
   "file_extension": ".py",
   "mimetype": "text/x-python",
   "name": "python",
   "nbconvert_exporter": "python",
   "pygments_lexer": "ipython3",
   "version": "3.7.3"
  }
 },
 "nbformat": 4,
 "nbformat_minor": 2
}
