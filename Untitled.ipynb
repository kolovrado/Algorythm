{
 "cells": [
  {
   "cell_type": "code",
   "execution_count": null,
   "metadata": {},
   "outputs": [],
   "source": [
    "    \"\"\"\"\"\n",
    "    У вас есть примитивный калькулятор, который умеет выполнять всего три операции с текущим числом x: \n",
    "    заменить x на 2x, 3x или x+1. По данному целому числу 1≤n≤105 определите минимальное число операций k, \n",
    "    необходимое, чтобы получить n из 1.\n",
    "    Выведите k и последовательность промежуточных чисел.\n",
    "    In:\n",
    "    96234\n",
    "    Out:\n",
    "    14\n",
    "    1 3 9 10 11 22 66 198 594 1782 5346 16038 16039 32078 96234 \n",
    "    \"\"\"\"\"\n",
    "\n",
    "inp = inp = int(input())\n",
    "n = inp + 1\n",
    "que = [0]*n\n",
    "ind = [0]*n\n",
    "ans = [0]\n",
    "for i in range(1, n):\n",
    "    ans.append(i)\n",
    "    a = [i*2, i*3, i+1]    \n",
    "    for elem in a:\n",
    "        if elem < n:\n",
    "            if que[elem] == 0:\n",
    "                que[elem] = que[i] + 1\n",
    "                ind[elem] = i\n",
    "            elif que[elem] > que[i]:\n",
    "                ind[elem] = i\n",
    "                que[elem] = que[i] + 1\n",
    "i = inp\n",
    "oy = []\n",
    "while i >= 1:\n",
    "    oy.insert(0, ans[i])\n",
    "    i = ind[i]\n",
    "print(que[-1])\n",
    "print(*oy)"
   ]
  }
 ],
 "metadata": {
  "kernelspec": {
   "display_name": "Python 3",
   "language": "python",
   "name": "python3"
  },
  "language_info": {
   "codemirror_mode": {
    "name": "ipython",
    "version": 3
   },
   "file_extension": ".py",
   "mimetype": "text/x-python",
   "name": "python",
   "nbconvert_exporter": "python",
   "pygments_lexer": "ipython3",
   "version": "3.7.3"
  }
 },
 "nbformat": 4,
 "nbformat_minor": 2
}
